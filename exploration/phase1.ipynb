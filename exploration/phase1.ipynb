{
 "cells": [
  {
   "cell_type": "code",
   "execution_count": 19,
   "id": "91d22b50",
   "metadata": {},
   "outputs": [],
   "source": [
    "\n",
    "import pandas as pd\n",
    "import yfinance as yf\n",
    "import os, yaml, json, glob, re"
   ]
  },
  {
   "cell_type": "code",
   "execution_count": 6,
   "id": "9189da24",
   "metadata": {},
   "outputs": [],
   "source": [
    "def load_config():\n",
    "    with open(\"../config/config.yaml\", \"r\") as f:\n",
    "        config = yaml.safe_load(f)\n",
    "\n",
    "    # If in test mode, merge with test overrides\n",
    "    if config.get(\"mode\") == \"test\":\n",
    "        with open(\"../config/config_test.yaml\", \"r\") as f:\n",
    "            test_overrides = yaml.safe_load(f)\n",
    "        config.update(test_overrides)\n",
    "    return config\n",
    "\n",
    "def load_tickers(path=\"../data/tickers.json\"):\n",
    "    with open(path, \"r\") as f:\n",
    "        return json.load(f)"
   ]
  },
  {
   "cell_type": "code",
   "execution_count": null,
   "id": "2ac80e2a",
   "metadata": {},
   "outputs": [
    {
     "name": "stderr",
     "output_type": "stream",
     "text": [
      "C:\\Users\\arifn\\AppData\\Local\\Temp\\ipykernel_19624\\2338968822.py:3: FutureWarning: YF.download() has changed argument auto_adjust default to True\n",
      "  df = yf.download('ADRO.JK', period=f\"{config[\"ohlcv_days\"]}d\", interval=\"1d\", progress=False)\n"
     ]
    },
    {
     "ename": "NameError",
     "evalue": "name 'ticker' is not defined",
     "output_type": "error",
     "traceback": [
      "\u001b[31m---------------------------------------------------------------------------\u001b[39m",
      "\u001b[31mNameError\u001b[39m                                 Traceback (most recent call last)",
      "\u001b[36mCell\u001b[39m\u001b[36m \u001b[39m\u001b[32mIn[17]\u001b[39m\u001b[32m, line 6\u001b[39m\n\u001b[32m      3\u001b[39m df = yf.download(\u001b[33m'\u001b[39m\u001b[33mADRO.JK\u001b[39m\u001b[33m'\u001b[39m, period=\u001b[33mf\u001b[39m\u001b[33m\"\u001b[39m\u001b[38;5;132;01m{\u001b[39;00mconfig[\u001b[33m\"\u001b[39m\u001b[33mohlcv_days\u001b[39m\u001b[33m\"\u001b[39m]\u001b[38;5;132;01m}\u001b[39;00m\u001b[33md\u001b[39m\u001b[33m\"\u001b[39m, interval=\u001b[33m\"\u001b[39m\u001b[33m1d\u001b[39m\u001b[33m\"\u001b[39m, progress=\u001b[38;5;28;01mFalse\u001b[39;00m)\n\u001b[32m      4\u001b[39m df = df.reset_index()\n\u001b[32m----> \u001b[39m\u001b[32m6\u001b[39m df[\u001b[33m\"\u001b[39m\u001b[33mTicker\u001b[39m\u001b[33m\"\u001b[39m] = \u001b[43mticker\u001b[49m\n\u001b[32m      7\u001b[39m df[\u001b[33m\"\u001b[39m\u001b[33mMarket\u001b[39m\u001b[33m\"\u001b[39m] = market_code.upper()\n",
      "\u001b[31mNameError\u001b[39m: name 'ticker' is not defined"
     ]
    }
   ],
   "source": [
    "tickers = load_tickers()\n",
    "config = load_config()\n",
    "df = yf.download('ADRO.JK', period=f\"{config[\"ohlcv_days\"]}d\", interval=\"1d\", progress=False)\n",
    "df = df.reset_index()\n"
   ]
  },
  {
   "cell_type": "code",
   "execution_count": 15,
   "id": "87783fc3",
   "metadata": {},
   "outputs": [],
   "source": [
    "df.columns = df.columns.droplevel(level=1)"
   ]
  },
  {
   "cell_type": "code",
   "execution_count": null,
   "id": "b88b52e2",
   "metadata": {},
   "outputs": [
    {
     "data": {
      "text/html": [
       "<div>\n",
       "<style scoped>\n",
       "    .dataframe tbody tr th:only-of-type {\n",
       "        vertical-align: middle;\n",
       "    }\n",
       "\n",
       "    .dataframe tbody tr th {\n",
       "        vertical-align: top;\n",
       "    }\n",
       "\n",
       "    .dataframe thead th {\n",
       "        text-align: right;\n",
       "    }\n",
       "</style>\n",
       "<table border=\"1\" class=\"dataframe\">\n",
       "  <thead>\n",
       "    <tr style=\"text-align: right;\">\n",
       "      <th>Price</th>\n",
       "      <th>Date</th>\n",
       "      <th>Close</th>\n",
       "      <th>High</th>\n",
       "      <th>Low</th>\n",
       "      <th>Open</th>\n",
       "      <th>Volume</th>\n",
       "    </tr>\n",
       "  </thead>\n",
       "  <tbody>\n",
       "    <tr>\n",
       "      <th>0</th>\n",
       "      <td>2025-01-21</td>\n",
       "      <td>2128.370850</td>\n",
       "      <td>2183.653209</td>\n",
       "      <td>2128.370850</td>\n",
       "      <td>2174.439483</td>\n",
       "      <td>48624800</td>\n",
       "    </tr>\n",
       "    <tr>\n",
       "      <th>1</th>\n",
       "      <td>2025-01-22</td>\n",
       "      <td>2137.584473</td>\n",
       "      <td>2165.225651</td>\n",
       "      <td>2137.584473</td>\n",
       "      <td>2146.798199</td>\n",
       "      <td>38370100</td>\n",
       "    </tr>\n",
       "    <tr>\n",
       "      <th>2</th>\n",
       "      <td>2025-01-23</td>\n",
       "      <td>2156.011963</td>\n",
       "      <td>2202.080595</td>\n",
       "      <td>2128.370784</td>\n",
       "      <td>2146.798237</td>\n",
       "      <td>89773300</td>\n",
       "    </tr>\n",
       "    <tr>\n",
       "      <th>3</th>\n",
       "      <td>2025-01-24</td>\n",
       "      <td>2119.156982</td>\n",
       "      <td>2174.439338</td>\n",
       "      <td>2100.729530</td>\n",
       "      <td>2156.011886</td>\n",
       "      <td>49262300</td>\n",
       "    </tr>\n",
       "    <tr>\n",
       "      <th>4</th>\n",
       "      <td>2025-01-30</td>\n",
       "      <td>2119.156982</td>\n",
       "      <td>2137.584434</td>\n",
       "      <td>2073.088352</td>\n",
       "      <td>2128.370708</td>\n",
       "      <td>69364100</td>\n",
       "    </tr>\n",
       "    <tr>\n",
       "      <th>...</th>\n",
       "      <td>...</td>\n",
       "      <td>...</td>\n",
       "      <td>...</td>\n",
       "      <td>...</td>\n",
       "      <td>...</td>\n",
       "      <td>...</td>\n",
       "    </tr>\n",
       "    <tr>\n",
       "      <th>95</th>\n",
       "      <td>2025-06-30</td>\n",
       "      <td>1830.000000</td>\n",
       "      <td>1840.000000</td>\n",
       "      <td>1800.000000</td>\n",
       "      <td>1810.000000</td>\n",
       "      <td>51581800</td>\n",
       "    </tr>\n",
       "    <tr>\n",
       "      <th>96</th>\n",
       "      <td>2025-07-01</td>\n",
       "      <td>1830.000000</td>\n",
       "      <td>1860.000000</td>\n",
       "      <td>1815.000000</td>\n",
       "      <td>1845.000000</td>\n",
       "      <td>38347300</td>\n",
       "    </tr>\n",
       "    <tr>\n",
       "      <th>97</th>\n",
       "      <td>2025-07-02</td>\n",
       "      <td>1775.000000</td>\n",
       "      <td>1835.000000</td>\n",
       "      <td>1775.000000</td>\n",
       "      <td>1830.000000</td>\n",
       "      <td>54356500</td>\n",
       "    </tr>\n",
       "    <tr>\n",
       "      <th>98</th>\n",
       "      <td>2025-07-03</td>\n",
       "      <td>1760.000000</td>\n",
       "      <td>1795.000000</td>\n",
       "      <td>1740.000000</td>\n",
       "      <td>1785.000000</td>\n",
       "      <td>71567900</td>\n",
       "    </tr>\n",
       "    <tr>\n",
       "      <th>99</th>\n",
       "      <td>2025-07-04</td>\n",
       "      <td>1755.000000</td>\n",
       "      <td>1765.000000</td>\n",
       "      <td>1730.000000</td>\n",
       "      <td>1760.000000</td>\n",
       "      <td>43978000</td>\n",
       "    </tr>\n",
       "  </tbody>\n",
       "</table>\n",
       "<p>100 rows × 6 columns</p>\n",
       "</div>"
      ],
      "text/plain": [
       "Price       Date        Close         High          Low         Open    Volume\n",
       "0     2025-01-21  2128.370850  2183.653209  2128.370850  2174.439483  48624800\n",
       "1     2025-01-22  2137.584473  2165.225651  2137.584473  2146.798199  38370100\n",
       "2     2025-01-23  2156.011963  2202.080595  2128.370784  2146.798237  89773300\n",
       "3     2025-01-24  2119.156982  2174.439338  2100.729530  2156.011886  49262300\n",
       "4     2025-01-30  2119.156982  2137.584434  2073.088352  2128.370708  69364100\n",
       "..           ...          ...          ...          ...          ...       ...\n",
       "95    2025-06-30  1830.000000  1840.000000  1800.000000  1810.000000  51581800\n",
       "96    2025-07-01  1830.000000  1860.000000  1815.000000  1845.000000  38347300\n",
       "97    2025-07-02  1775.000000  1835.000000  1775.000000  1830.000000  54356500\n",
       "98    2025-07-03  1760.000000  1795.000000  1740.000000  1785.000000  71567900\n",
       "99    2025-07-04  1755.000000  1765.000000  1730.000000  1760.000000  43978000\n",
       "\n",
       "[100 rows x 6 columns]"
      ]
     },
     "execution_count": 16,
     "metadata": {},
     "output_type": "execute_result"
    }
   ],
   "source": [
    "df\n",
    "df[\"Ticker\"] = 'ADRO.JK'\n",
    "df[\"Market\"] = market_code.upper()"
   ]
  },
  {
   "cell_type": "code",
   "execution_count": null,
   "id": "0c09ac22",
   "metadata": {},
   "outputs": [],
   "source": [
    "def find_latest_ohlcv_file(ohlcv_dir, market_code):\n",
    "    pattern = f\"{market_code}-ohlcv-eod-*.csv\"\n",
    "    files = glob.glob(os.path.join(ohlcv_dir, pattern))\n",
    "    if not files:\n",
    "        return None\n",
    "    return max(files, key=os.path.getctime)"
   ]
  },
  {
   "cell_type": "code",
   "execution_count": 24,
   "id": "44cc917b",
   "metadata": {},
   "outputs": [
    {
     "data": {
      "text/plain": [
       "'../data/raw_ohlcv\\\\test_idx-ohlcv-eod-20250704.csv'"
      ]
     },
     "execution_count": 24,
     "metadata": {},
     "output_type": "execute_result"
    }
   ],
   "source": [
    "find_latest_ohlcv_file('../data/raw_ohlcv/', 'idx', 'test')"
   ]
  },
  {
   "cell_type": "code",
   "execution_count": null,
   "id": "e94a8369",
   "metadata": {},
   "outputs": [],
   "source": []
  }
 ],
 "metadata": {
  "kernelspec": {
   "display_name": ".venv",
   "language": "python",
   "name": "python3"
  },
  "language_info": {
   "codemirror_mode": {
    "name": "ipython",
    "version": 3
   },
   "file_extension": ".py",
   "mimetype": "text/x-python",
   "name": "python",
   "nbconvert_exporter": "python",
   "pygments_lexer": "ipython3",
   "version": "3.13.3"
  }
 },
 "nbformat": 4,
 "nbformat_minor": 5
}
